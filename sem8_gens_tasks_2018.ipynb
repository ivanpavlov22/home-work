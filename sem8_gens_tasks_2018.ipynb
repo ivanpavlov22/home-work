{
 "cells": [
  {
   "cell_type": "markdown",
   "metadata": {},
   "source": [
    "# Задания по семинару 8\n",
    "\n",
    "# Генераторы"
   ]
  },
  {
   "cell_type": "markdown",
   "metadata": {},
   "source": [
    "1) Используя список ``lst1``, создать новый список, в котором каждый элемент списка ``lst1`` будет заменен значением длины строки соответствующего элемента в списке ``lst1``. Использовать генераторы, решить задачу в одну строку."
   ]
  },
  {
   "cell_type": "code",
   "execution_count": 1,
   "metadata": {},
   "outputs": [],
   "source": [
    "lst1 = ['1', '123', '12', '1234', '1', '123']"
   ]
  },
  {
   "cell_type": "code",
   "execution_count": 2,
   "metadata": {},
   "outputs": [
    {
     "name": "stdout",
     "output_type": "stream",
     "text": [
      "[1, 3, 2, 4, 1, 3]\n"
     ]
    }
   ],
   "source": [
    "print([len(i) for i in lst1])"
   ]
  },
  {
   "cell_type": "markdown",
   "metadata": {},
   "source": [
    "2) Подсчитать количество строк в списке ``lst1``, длина которых больше 2. Использовать генераторы, решить задачу в одну строку."
   ]
  },
  {
   "cell_type": "code",
   "execution_count": 3,
   "metadata": {},
   "outputs": [],
   "source": [
    "lst1 = ['1', '123', '12', '1234', '1', '123']"
   ]
  },
  {
   "cell_type": "code",
   "execution_count": 6,
   "metadata": {},
   "outputs": [
    {
     "name": "stdout",
     "output_type": "stream",
     "text": [
      "3\n"
     ]
    }
   ],
   "source": [
    "print(len([len(i) for i in lst1 if len(i) > 2]))"
   ]
  },
  {
   "cell_type": "markdown",
   "metadata": {},
   "source": [
    "3) Создать список, в котором все числа списка ``lst2`` умножены на их номер (не индекс) в списке. Использовать генераторы, решить задачу в одну строку."
   ]
  },
  {
   "cell_type": "code",
   "execution_count": 7,
   "metadata": {},
   "outputs": [],
   "source": [
    "lst2 = [2, 4, -2, -3, 0 , 11 , 3, -1]"
   ]
  },
  {
   "cell_type": "code",
   "execution_count": 9,
   "metadata": {},
   "outputs": [
    {
     "name": "stdout",
     "output_type": "stream",
     "text": [
      "[2, 8, -6, -12, 0, 66, 21, -8]\n"
     ]
    }
   ],
   "source": [
    "print([symb*i for i, symb in enumerate(lst2, 1)])"
   ]
  },
  {
   "cell_type": "markdown",
   "metadata": {},
   "source": [
    "4) Создать список, в котором все отрицательные числа списка ``lst2`` исключены, остальные элементы сохранены в том же порядке. Использовать генераторы, решить задачу в одну строку."
   ]
  },
  {
   "cell_type": "code",
   "execution_count": 10,
   "metadata": {},
   "outputs": [],
   "source": [
    "lst2 = [2, 4, -2, -3, 0 , 11 , 3, -1]"
   ]
  },
  {
   "cell_type": "code",
   "execution_count": 11,
   "metadata": {},
   "outputs": [
    {
     "name": "stdout",
     "output_type": "stream",
     "text": [
      "[2, 4, 0, 11, 3]\n"
     ]
    }
   ],
   "source": [
    "print([i for i in lst2 if i>=0])"
   ]
  },
  {
   "cell_type": "markdown",
   "metadata": {},
   "source": [
    "5) Создать список, в котором все отрицательные числа списка ``lst2`` заменены на их номер (не индекс) в списке, остальные элементы сохранены на своих местах. Использовать генераторы и тернарный оператор, решить задачу в одну строку."
   ]
  },
  {
   "cell_type": "raw",
   "metadata": {},
   "source": [
    "lst2 = [2, 4, -2, -3, 0 , 11 , 3, -1]"
   ]
  },
  {
   "cell_type": "code",
   "execution_count": 18,
   "metadata": {},
   "outputs": [
    {
     "name": "stdout",
     "output_type": "stream",
     "text": [
      "[2, 4, 3, 4, 0, 11, 3, 8]\n"
     ]
    }
   ],
   "source": [
    "print([num if num>=0 else i for i, num in enumerate(lst2, 1)])"
   ]
  },
  {
   "cell_type": "markdown",
   "metadata": {},
   "source": [
    "6) На основе полученной от пользователя строки (не содержащей повторяющихся символов) создать словарь, в котором каждому символу строки будет соответствовать номер символа в строке. Использовать генераторы, решить задачу в одну строку.\n",
    "\n",
    "Например:"
   ]
  },
  {
   "cell_type": "raw",
   "metadata": {},
   "source": [
    "'qwerty' -> {'q': 1, 'w': 2, 'e': 3, 'r': 4, 't': 5, 'y': 6}"
   ]
  },
  {
   "cell_type": "code",
   "execution_count": 20,
   "metadata": {},
   "outputs": [
    {
     "name": "stdout",
     "output_type": "stream",
     "text": [
      "qwerty\n"
     ]
    },
    {
     "data": {
      "text/plain": [
       "{'q': 1, 'w': 2, 'e': 3, 'r': 4, 't': 5, 'y': 6}"
      ]
     },
     "execution_count": 20,
     "metadata": {},
     "output_type": "execute_result"
    }
   ],
   "source": [
    "{symb: i for i, symb in enumerate(input(), 1)}"
   ]
  },
  {
   "cell_type": "markdown",
   "metadata": {},
   "source": [
    "7) Определить, сколько элементов из заданного списка являются ключами в словаре. Использовать генераторы, решить задачу в одну строку. Например, для"
   ]
  },
  {
   "cell_type": "code",
   "execution_count": 24,
   "metadata": {},
   "outputs": [],
   "source": [
    "lst3 = ['a', 'c', 'e', 'g', 'i']\n",
    "dict1 = {'a': 1, 'b': 2, 'c': 3, 'd': 4}"
   ]
  },
  {
   "cell_type": "code",
   "execution_count": 27,
   "metadata": {},
   "outputs": [
    {
     "data": {
      "text/plain": [
       "2"
      ]
     },
     "execution_count": 27,
     "metadata": {},
     "output_type": "execute_result"
    }
   ],
   "source": [
    "len([x for x, z in dict1.items() if x in lst3])"
   ]
  },
  {
   "cell_type": "markdown",
   "metadata": {},
   "source": [
    "ответ: 2."
   ]
  },
  {
   "cell_type": "markdown",
   "metadata": {},
   "source": [
    "8) Для строки ``evgene_o`` создать словарь, где для всех символов, встречающихся в строке хранится число: сколько раз символ встретился в строке ``evgene_o``. Использовать генераторы, решить задачу в одну строку."
   ]
  },
  {
   "cell_type": "code",
   "execution_count": 28,
   "metadata": {},
   "outputs": [],
   "source": [
    "evgene_o = \"\"\"My uncle -- high ideals inspire him;\n",
    "     but when past joking he fell sick,\n",
    "     he really forced one to admire him --\n",
    "     and never played a shrewder trick.\n",
    "     Let others learn from his example!\n",
    "     But God, how deadly dull to sample\n",
    "     sickroom attendance night and day\n",
    "     and never stir a foot away!\n",
    "     And the sly baseness, fit to throttle,\n",
    "     of entertaining the half-dead:\n",
    "     one smoothes the pillows down in bed,\n",
    "     and glumly serves the medicine bottle,\n",
    "     and sighs, and asks oneself all through:\n",
    "     When will the devil come for you?\n",
    "     \n",
    "     Such were a young rake's meditations --\n",
    "     by will of Zeus, the high and just,\n",
    "     the legatee of his relations --\n",
    "     as horses whirled him through the dust.\n",
    "     Friends of my Ruslan and Lyudmila,\n",
    "     without preliminary feeler\n",
    "     let me acquaint you on the nail\n",
    "     with this the hero of my tale:\n",
    "     Onegin, my good friend, was littered\n",
    "     and bred upon the Neva's brink,\n",
    "     where you were born as well, I think,\n",
    "     reader, or where you've shone and glittered!\n",
    "     There once I too strolled back and forth:\n",
    "     but I'm allergic to the North...\"\"\""
   ]
  },
  {
   "cell_type": "code",
   "execution_count": 31,
   "metadata": {},
   "outputs": [
    {
     "name": "stdout",
     "output_type": "stream",
     "text": [
      "{'?': 1, 'j': 2, 'N': 2, 'm': 20, 'y': 19, 'h': 51, 'f': 16, 'e': 102, ':': 4, 'u': 22, 'L': 2, 'd': 41, '-': 9, 't': 61, '!': 3, 'M': 1, ';': 1, \"'\": 4, 'v': 6, 'q': 1, 'O': 1, 'R': 1, '\\n': 28, 'o': 55, ' ': 294, '.': 5, 'W': 1, 'B': 1, 'a': 52, 'i': 48, 'T': 1, ',': 16, 'g': 15, 's': 42, 'S': 1, 'Z': 1, 'p': 8, 'G': 1, 'F': 1, 'l': 47, 'I': 3, 'k': 9, 'n': 51, 'x': 1, 'w': 17, 'A': 1, 'c': 13, 'b': 10, 'r': 47}\n"
     ]
    }
   ],
   "source": [
    "a = {symb: evgene_o.count(symb)  for symb in set(evgene_o)}\n",
    "print(a)"
   ]
  },
  {
   "cell_type": "markdown",
   "metadata": {},
   "source": [
    "9) Используя словарь, полученный в задаче 8), посчитать количество строчных букв в строке ``evgene_o``. Использовать генераторы, решить задачу в одну строку."
   ]
  },
  {
   "cell_type": "code",
   "execution_count": 32,
   "metadata": {},
   "outputs": [
    {
     "data": {
      "text/plain": [
       "756"
      ]
     },
     "execution_count": 32,
     "metadata": {},
     "output_type": "execute_result"
    }
   ],
   "source": [
    "sum([z for x, z in a.items() if x.islower()])"
   ]
  },
  {
   "cell_type": "code",
   "execution_count": 36,
   "metadata": {},
   "outputs": [],
   "source": [
    "#СЛУЧАЙНО УДАЛИЛ УСЛОВИЕ.\n",
    "#10) Просуммировать произведения ключей на соответствующие им значения из словаря dict4. Использовать генераторы, решить задачу в одну строку."
   ]
  },
  {
   "cell_type": "code",
   "execution_count": 37,
   "metadata": {},
   "outputs": [],
   "source": [
    "dict4 = {1: 10, 2: 20, 3: 30, 4: 40, 5: 50, 6: 60}"
   ]
  },
  {
   "cell_type": "code",
   "execution_count": 39,
   "metadata": {},
   "outputs": [
    {
     "data": {
      "text/plain": [
       "910"
      ]
     },
     "execution_count": 39,
     "metadata": {},
     "output_type": "execute_result"
    }
   ],
   "source": [
    "sum(x*z for x, z in dict4.items())"
   ]
  },
  {
   "cell_type": "markdown",
   "metadata": {},
   "source": [
    "11) На базе словаря ``dict6`` создать словарь ``dict7``, в котором нет пар ключ-значение с ключами, встречающимися в словаре `` dict5``. Использовать генераторы, решить задачу в одну строку."
   ]
  },
  {
   "cell_type": "raw",
   "metadata": {},
   "source": [
    "dict5 = {'a': 3, 'b': 4, 'c': 5, 'd': 6, 'e': 7, 'f': 8, 'g': 9}\n",
    "dict6 = {'e': 20, 'f': 21, 'g': 22, 'h': 23, 'i': 24, 'j': 25, 'k': 26, 'l': 27}"
   ]
  },
  {
   "cell_type": "code",
   "execution_count": 57,
   "metadata": {},
   "outputs": [
    {
     "data": {
      "text/plain": [
       "{'h': 23, 'i': 24, 'j': 25, 'k': 26, 'l': 27}"
      ]
     },
     "execution_count": 57,
     "metadata": {},
     "output_type": "execute_result"
    }
   ],
   "source": [
    "{z: x for z, x in dict6.items() if z not in dict5.keys()}"
   ]
  },
  {
   "cell_type": "markdown",
   "metadata": {},
   "source": [
    "12)\\* Создать новый словарь ``dict8``, в котором есть все пары ключ-значения из ``dict5``, а для ключей, которые есть в ``dict6``, но отсутствуют в ``dict5``, добавить соответствующие пары ключ-значения в ``dict8``. Использовать генераторы, решить задачу в одну строку."
   ]
  },
  {
   "cell_type": "code",
   "execution_count": 60,
   "metadata": {},
   "outputs": [],
   "source": [
    "dict5 = {'a': 3, 'b': 4, 'c': 5, 'd': 6, 'e': 7, 'f': 8, 'g': 9}\n",
    "dict6 = {'e': 20, 'f': 21, 'g': 22, 'h': 23, 'i': 24, 'j': 25, 'k': 26, 'l': 27}"
   ]
  },
  {
   "cell_type": "code",
   "execution_count": 62,
   "metadata": {},
   "outputs": [
    {
     "data": {
      "text/plain": [
       "{'l': 27,\n",
       " 'k': 26,\n",
       " 'i': 24,\n",
       " 'e': 7,\n",
       " 'a': 3,\n",
       " 'd': 6,\n",
       " 'b': 4,\n",
       " 'c': 5,\n",
       " 'f': 8,\n",
       " 'g': 9,\n",
       " 'j': 25,\n",
       " 'h': 23}"
      ]
     },
     "execution_count": 62,
     "metadata": {},
     "output_type": "execute_result"
    }
   ],
   "source": [
    "dict(dict5.items() | set((x, z) for x,z in dict6.items() if x not in dict5))"
   ]
  },
  {
   "cell_type": "markdown",
   "metadata": {},
   "source": [
    "13) В словаре, полученном в задаче 8) со стихотворением, удалить все пары ключ-значение для символов, встречающихся менее 5 раз. Использовать генераторы, решить задачу в одну строку."
   ]
  },
  {
   "cell_type": "code",
   "execution_count": 63,
   "metadata": {},
   "outputs": [
    {
     "data": {
      "text/plain": [
       "{'m': 20,\n",
       " 'y': 19,\n",
       " 'h': 51,\n",
       " 'f': 16,\n",
       " 'e': 102,\n",
       " 'u': 22,\n",
       " 'd': 41,\n",
       " '-': 9,\n",
       " 't': 61,\n",
       " 'v': 6,\n",
       " '\\n': 28,\n",
       " 'o': 55,\n",
       " ' ': 294,\n",
       " '.': 5,\n",
       " 'a': 52,\n",
       " 'i': 48,\n",
       " ',': 16,\n",
       " 'g': 15,\n",
       " 's': 42,\n",
       " 'p': 8,\n",
       " 'l': 47,\n",
       " 'k': 9,\n",
       " 'n': 51,\n",
       " 'w': 17,\n",
       " 'c': 13,\n",
       " 'b': 10,\n",
       " 'r': 47}"
      ]
     },
     "execution_count": 63,
     "metadata": {},
     "output_type": "execute_result"
    }
   ],
   "source": [
    "{z:x for z, x in a.items() if x>=5}"
   ]
  },
  {
   "cell_type": "markdown",
   "metadata": {},
   "source": [
    "14) Дан словарь. На его основе создать новый словарь, в котором ключи и значения поменяны местами. Использовать генераторы, решить задачу в одну строку.\n",
    "\n",
    "Например:"
   ]
  },
  {
   "cell_type": "raw",
   "metadata": {},
   "source": [
    "{'a': 1, 'b': 2, 'c': 3, 'd': 4} -> {1: 'a', 2: 'b', 3: 'c', 4: 'd'}"
   ]
  },
  {
   "cell_type": "code",
   "execution_count": 65,
   "metadata": {},
   "outputs": [
    {
     "data": {
      "text/plain": [
       "{1: 'a', 2: 'b', 3: 'c', 4: 'd'}"
      ]
     },
     "execution_count": 65,
     "metadata": {},
     "output_type": "execute_result"
    }
   ],
   "source": [
    "{x: z for z, x in {'a': 1, 'b': 2, 'c': 3, 'd': 4}.items()}"
   ]
  },
  {
   "cell_type": "markdown",
   "metadata": {
    "collapsed": true
   },
   "source": [
    "15) Создать список из всех цифр, встречающихся в введенной пользователем строке. Использовать генераторы, решить задачу в одну строку.\n",
    "\n",
    "Например:"
   ]
  },
  {
   "cell_type": "code",
   "execution_count": null,
   "metadata": {},
   "outputs": [],
   "source": [
    "'fghio345jkw23ihi2' -> [3, 4, 5, 2, 3, 2] "
   ]
  },
  {
   "cell_type": "code",
   "execution_count": 70,
   "metadata": {},
   "outputs": [
    {
     "name": "stdout",
     "output_type": "stream",
     "text": [
      "fghio345jkw23ihi2\n"
     ]
    },
    {
     "data": {
      "text/plain": [
       "[3, 4, 5, 2, 3, 2]"
      ]
     },
     "execution_count": 70,
     "metadata": {},
     "output_type": "execute_result"
    }
   ],
   "source": [
    "[int(i) for i in input() if i.isdecimal()]"
   ]
  },
  {
   "cell_type": "markdown",
   "metadata": {},
   "source": [
    "16) Написать програмный код, который генерирует вложенные списки, образующие единичную матрицу 4 на 4. Использовать генераторы, решить задачу в одну строку. Результат работы алгоритма (вывод на экран может быть однострочным):"
   ]
  },
  {
   "cell_type": "raw",
   "metadata": {},
   "source": [
    "[[1, 0, 0, 0],\n",
    " [0, 1, 0, 0],\n",
    " [0, 0, 1, 0],\n",
    " [0, 0, 0, 1]]"
   ]
  },
  {
   "cell_type": "code",
   "execution_count": 72,
   "metadata": {},
   "outputs": [
    {
     "data": {
      "text/plain": [
       "[[1, 0, 0, 0], [0, 1, 0, 0], [0, 0, 1, 0], [0, 0, 0, 1]]"
      ]
     },
     "execution_count": 72,
     "metadata": {},
     "output_type": "execute_result"
    }
   ],
   "source": [
    "[[1 if i == j else 0 for i in range(4)] for j in range(4)]"
   ]
  },
  {
   "cell_type": "code",
   "execution_count": null,
   "metadata": {},
   "outputs": [],
   "source": []
  }
 ],
 "metadata": {
  "kernelspec": {
   "display_name": "Python 3",
   "language": "python",
   "name": "python3"
  },
  "language_info": {
   "codemirror_mode": {
    "name": "ipython",
    "version": 3
   },
   "file_extension": ".py",
   "mimetype": "text/x-python",
   "name": "python",
   "nbconvert_exporter": "python",
   "pygments_lexer": "ipython3",
   "version": "3.6.5"
  }
 },
 "nbformat": 4,
 "nbformat_minor": 2
}
